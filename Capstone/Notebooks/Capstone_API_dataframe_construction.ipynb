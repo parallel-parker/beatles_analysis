{
 "cells": [
  {
   "cell_type": "markdown",
   "metadata": {},
   "source": [
    "# Capstone API Dataframe Construction"
   ]
  },
  {
   "cell_type": "code",
   "execution_count": 1,
   "metadata": {},
   "outputs": [],
   "source": [
    "import pandas as pd\n",
    "import matplotlib.pyplot as plt\n",
    "import re\n",
    "import numpy as np\n",
    "import time\n",
    "import spotipy\n",
    "from spotipy.oauth2 import SpotifyClientCredentials"
   ]
  },
  {
   "cell_type": "code",
   "execution_count": 2,
   "metadata": {},
   "outputs": [],
   "source": [
    "cid='59c22e75b26c4b1297d500b0ed55e9a7'\n",
    "secret= ***\n",
    "\n",
    "client_credentials_manager = SpotifyClientCredentials(client_id=cid, client_secret=secret)\n",
    "sp = spotipy.Spotify(client_credentials_manager=client_credentials_manager)"
   ]
  },
  {
   "cell_type": "markdown",
   "metadata": {},
   "source": [
    "### Creating our first Beatles catalog dataframe"
   ]
  },
  {
   "cell_type": "code",
   "execution_count": 3,
   "metadata": {},
   "outputs": [],
   "source": [
    "## Request all Beatles albums\n",
    "\n",
    "beatles_uri = 'spotify:artist:3WrFJ7ztbogyGnTHbHJFl2'\n",
    "\n",
    "album_name = []\n",
    "album_uri = []\n",
    "\n",
    "results = sp.artist_albums(beatles_uri, album_type='album', limit=50)\n",
    "albums = results['items']\n",
    "\n",
    "for album in albums:\n",
    "    album_name.append(album['name'])\n",
    "    album_uri.append(album['id'])"
   ]
  },
  {
   "cell_type": "code",
   "execution_count": 4,
   "metadata": {
    "collapsed": true
   },
   "outputs": [
    {
     "data": {
      "text/plain": [
       "['Get Back (Rooftop Performance)',\n",
       " 'Let It Be (Super Deluxe)',\n",
       " 'Abbey Road (Super Deluxe Edition)',\n",
       " 'The Beatles',\n",
       " 'Live At The Hollywood Bowl',\n",
       " 'Let It Be... Naked (Remastered)',\n",
       " 'Yellow Submarine Songtrack',\n",
       " 'On Air - Live At The BBC (Vol.2)',\n",
       " '1 (Remastered)',\n",
       " 'Live At The BBC (Remastered)',\n",
       " 'Let It Be (Remastered)',\n",
       " 'Abbey Road (Remastered)',\n",
       " 'Yellow Submarine (Remastered)',\n",
       " 'The Beatles (Remastered)',\n",
       " 'Magical Mystery Tour (Remastered)',\n",
       " \"Sgt. Pepper's Lonely Hearts Club Band (Deluxe Edition)\",\n",
       " \"Sgt. Pepper's Lonely Hearts Club Band (Deluxe Edition)\",\n",
       " \"Sgt. Pepper's Lonely Hearts Club Band (Remastered)\",\n",
       " \"Sgt. Pepper's Lonely Hearts Club Band (Super Deluxe Edition)\",\n",
       " 'Revolver (Remastered)',\n",
       " 'Rubber Soul (Remastered)',\n",
       " 'Help! (Remastered)',\n",
       " 'Beatles For Sale (Remastered)',\n",
       " \"A Hard Day's Night (Remastered)\",\n",
       " 'With The Beatles (Remastered)',\n",
       " 'Please Please Me (Remastered)']"
      ]
     },
     "execution_count": 4,
     "metadata": {},
     "output_type": "execute_result"
    }
   ],
   "source": [
    "album_name"
   ]
  },
  {
   "cell_type": "code",
   "execution_count": 5,
   "metadata": {},
   "outputs": [],
   "source": [
    "## remove albums that are compilations, rarities collections, deluxe edition, etc.\n",
    "exclude_index =[0, 1, 2, 3, 4, 5, 6, 7, 9, 15, 16, 18]\n",
    "\n",
    "for i in sorted(exclude_index, reverse=True):\n",
    "    del album_name[i]\n",
    "    del album_uri[i]"
   ]
  },
  {
   "cell_type": "code",
   "execution_count": 6,
   "metadata": {
    "collapsed": true
   },
   "outputs": [
    {
     "data": {
      "text/plain": [
       "['1 (Remastered)',\n",
       " 'Let It Be (Remastered)',\n",
       " 'Abbey Road (Remastered)',\n",
       " 'Yellow Submarine (Remastered)',\n",
       " 'The Beatles (Remastered)',\n",
       " 'Magical Mystery Tour (Remastered)',\n",
       " \"Sgt. Pepper's Lonely Hearts Club Band (Remastered)\",\n",
       " 'Revolver (Remastered)',\n",
       " 'Rubber Soul (Remastered)',\n",
       " 'Help! (Remastered)',\n",
       " 'Beatles For Sale (Remastered)',\n",
       " \"A Hard Day's Night (Remastered)\",\n",
       " 'With The Beatles (Remastered)',\n",
       " 'Please Please Me (Remastered)']"
      ]
     },
     "execution_count": 6,
     "metadata": {},
     "output_type": "execute_result"
    }
   ],
   "source": [
    "album_name"
   ]
  },
  {
   "cell_type": "code",
   "execution_count": 7,
   "metadata": {},
   "outputs": [],
   "source": [
    "## request track ids for every album track\n",
    "track_ids = []\n",
    "\n",
    "for i in album_uri:\n",
    "    tracks = sp.album_tracks(i)\n",
    "    for t in range(len(tracks['items'])):\n",
    "        track_ids.append(tracks['items'][t]['id'])    "
   ]
  },
  {
   "cell_type": "code",
   "execution_count": null,
   "metadata": {},
   "outputs": [],
   "source": [
    "## Request data on track_ids via 2 GET methods for pertinent info.\n",
    "test1 = sp.track(track_ids[50])\n",
    "test2 = sp.audio_features(track_ids[50])"
   ]
  },
  {
   "cell_type": "code",
   "execution_count": null,
   "metadata": {},
   "outputs": [],
   "source": [
    "test1['artists']"
   ]
  },
  {
   "cell_type": "code",
   "execution_count": null,
   "metadata": {},
   "outputs": [],
   "source": [
    "test2"
   ]
  },
  {
   "cell_type": "code",
   "execution_count": null,
   "metadata": {},
   "outputs": [],
   "source": [
    "test3 = sp.audio_analysis(track_ids[50])"
   ]
  },
  {
   "cell_type": "code",
   "execution_count": null,
   "metadata": {},
   "outputs": [],
   "source": [
    "test3['track']['key_confidence']"
   ]
  },
  {
   "cell_type": "code",
   "execution_count": 8,
   "metadata": {},
   "outputs": [],
   "source": [
    "## Define function to collect all track data we want and put in list.\n",
    "## Pertinent data exists in two different dictionary locations\n",
    "\n",
    "def trackdata(id):\n",
    "    info = sp.track(id)\n",
    "    features = sp.audio_features(id)\n",
    "    \n",
    "    # sp.track data\n",
    "    song = info['name']\n",
    "    artist = info['artists'][0]['name']\n",
    "    album = info['album']['name']\n",
    "    duration = info['duration_ms']\n",
    "    track_num = info['track_number']\n",
    "    release_date = info['album']['release_date']\n",
    "    popularity = info['popularity']\n",
    "    \n",
    "    # sp.audio_features data\n",
    "    danceability = features[0]['danceability']\n",
    "    energy = features[0]['energy']\n",
    "    key = features[0]['key']\n",
    "    mode = features[0]['mode']\n",
    "    speechiness = features[0]['speechiness']\n",
    "    acousticness = features[0]['acousticness']\n",
    "    instrumentalness = features[0]['instrumentalness']\n",
    "    liveness = features[0]['liveness']\n",
    "    valence = features[0]['valence']\n",
    "    tempo = features[0]['tempo']\n",
    "    \n",
    "    #sp.audio_analysis data\n",
    "    key_confidence = sp.audio_analysis(id)['track']['key_confidence']\n",
    "    \n",
    "    track = [song, artist, album, duration, track_num, release_date, popularity, danceability, energy, key, key_confidence, mode, speechiness, acousticness, instrumentalness, liveness, valence, tempo]\n",
    "    return track"
   ]
  },
  {
   "cell_type": "code",
   "execution_count": 9,
   "metadata": {},
   "outputs": [],
   "source": [
    "## use for loop and function to collect track data from all album tracks\n",
    "tracks = []\n",
    "\n",
    "for i in range(len(track_ids)):\n",
    "    track = trackdata(track_ids[i])\n",
    "    tracks.append(track)"
   ]
  },
  {
   "cell_type": "code",
   "execution_count": 10,
   "metadata": {},
   "outputs": [],
   "source": [
    "## transform our lists into a dataframe\n",
    "columns = ['song', 'artist', 'album', 'duration', 'track_num', 'release_date', 'popularity', 'danceability', 'energy', 'key', 'key_confidence', 'mode', 'speechiness', 'acousticness', 'instrumentalness', 'liveness', 'valence', 'tempo']\n",
    "\n",
    "beatles_precision = pd.DataFrame(tracks, columns=columns)"
   ]
  },
  {
   "cell_type": "code",
   "execution_count": 11,
   "metadata": {},
   "outputs": [
    {
     "data": {
      "text/html": [
       "<div>\n",
       "<style scoped>\n",
       "    .dataframe tbody tr th:only-of-type {\n",
       "        vertical-align: middle;\n",
       "    }\n",
       "\n",
       "    .dataframe tbody tr th {\n",
       "        vertical-align: top;\n",
       "    }\n",
       "\n",
       "    .dataframe thead th {\n",
       "        text-align: right;\n",
       "    }\n",
       "</style>\n",
       "<table border=\"1\" class=\"dataframe\">\n",
       "  <thead>\n",
       "    <tr style=\"text-align: right;\">\n",
       "      <th></th>\n",
       "      <th>song</th>\n",
       "      <th>artist</th>\n",
       "      <th>album</th>\n",
       "      <th>duration</th>\n",
       "      <th>track_num</th>\n",
       "      <th>release_date</th>\n",
       "      <th>popularity</th>\n",
       "      <th>danceability</th>\n",
       "      <th>energy</th>\n",
       "      <th>key</th>\n",
       "      <th>key_confidence</th>\n",
       "      <th>mode</th>\n",
       "      <th>speechiness</th>\n",
       "      <th>acousticness</th>\n",
       "      <th>instrumentalness</th>\n",
       "      <th>liveness</th>\n",
       "      <th>valence</th>\n",
       "      <th>tempo</th>\n",
       "    </tr>\n",
       "  </thead>\n",
       "  <tbody>\n",
       "    <tr>\n",
       "      <th>0</th>\n",
       "      <td>Love Me Do - Mono / Remastered</td>\n",
       "      <td>The Beatles</td>\n",
       "      <td>1 (Remastered)</td>\n",
       "      <td>140173</td>\n",
       "      <td>1</td>\n",
       "      <td>2000-11-13</td>\n",
       "      <td>57</td>\n",
       "      <td>0.524</td>\n",
       "      <td>0.880</td>\n",
       "      <td>0</td>\n",
       "      <td>0.563</td>\n",
       "      <td>1</td>\n",
       "      <td>0.0987</td>\n",
       "      <td>0.404</td>\n",
       "      <td>0.000191</td>\n",
       "      <td>0.1540</td>\n",
       "      <td>0.758</td>\n",
       "      <td>148.058</td>\n",
       "    </tr>\n",
       "    <tr>\n",
       "      <th>1</th>\n",
       "      <td>From Me To You - Mono / Remastered</td>\n",
       "      <td>The Beatles</td>\n",
       "      <td>1 (Remastered)</td>\n",
       "      <td>116160</td>\n",
       "      <td>2</td>\n",
       "      <td>2000-11-13</td>\n",
       "      <td>59</td>\n",
       "      <td>0.581</td>\n",
       "      <td>0.821</td>\n",
       "      <td>0</td>\n",
       "      <td>0.000</td>\n",
       "      <td>1</td>\n",
       "      <td>0.0318</td>\n",
       "      <td>0.507</td>\n",
       "      <td>0.000000</td>\n",
       "      <td>0.1080</td>\n",
       "      <td>0.968</td>\n",
       "      <td>136.145</td>\n",
       "    </tr>\n",
       "    <tr>\n",
       "      <th>2</th>\n",
       "      <td>She Loves You - Mono / Remastered</td>\n",
       "      <td>The Beatles</td>\n",
       "      <td>1 (Remastered)</td>\n",
       "      <td>140920</td>\n",
       "      <td>3</td>\n",
       "      <td>2000-11-13</td>\n",
       "      <td>66</td>\n",
       "      <td>0.377</td>\n",
       "      <td>0.916</td>\n",
       "      <td>4</td>\n",
       "      <td>0.000</td>\n",
       "      <td>0</td>\n",
       "      <td>0.0481</td>\n",
       "      <td>0.260</td>\n",
       "      <td>0.000000</td>\n",
       "      <td>0.0740</td>\n",
       "      <td>0.912</td>\n",
       "      <td>75.533</td>\n",
       "    </tr>\n",
       "    <tr>\n",
       "      <th>3</th>\n",
       "      <td>I Want To Hold Your Hand - Remastered 2015</td>\n",
       "      <td>The Beatles</td>\n",
       "      <td>1 (Remastered)</td>\n",
       "      <td>145746</td>\n",
       "      <td>4</td>\n",
       "      <td>2000-11-13</td>\n",
       "      <td>71</td>\n",
       "      <td>0.490</td>\n",
       "      <td>0.715</td>\n",
       "      <td>7</td>\n",
       "      <td>0.560</td>\n",
       "      <td>1</td>\n",
       "      <td>0.0476</td>\n",
       "      <td>0.386</td>\n",
       "      <td>0.000000</td>\n",
       "      <td>0.3110</td>\n",
       "      <td>0.866</td>\n",
       "      <td>130.726</td>\n",
       "    </tr>\n",
       "    <tr>\n",
       "      <th>4</th>\n",
       "      <td>Can't Buy Me Love - Remastered 2015</td>\n",
       "      <td>The Beatles</td>\n",
       "      <td>1 (Remastered)</td>\n",
       "      <td>131213</td>\n",
       "      <td>5</td>\n",
       "      <td>2000-11-13</td>\n",
       "      <td>56</td>\n",
       "      <td>0.426</td>\n",
       "      <td>0.760</td>\n",
       "      <td>0</td>\n",
       "      <td>0.712</td>\n",
       "      <td>1</td>\n",
       "      <td>0.0414</td>\n",
       "      <td>0.118</td>\n",
       "      <td>0.000000</td>\n",
       "      <td>0.3250</td>\n",
       "      <td>0.955</td>\n",
       "      <td>171.838</td>\n",
       "    </tr>\n",
       "    <tr>\n",
       "      <th>...</th>\n",
       "      <td>...</td>\n",
       "      <td>...</td>\n",
       "      <td>...</td>\n",
       "      <td>...</td>\n",
       "      <td>...</td>\n",
       "      <td>...</td>\n",
       "      <td>...</td>\n",
       "      <td>...</td>\n",
       "      <td>...</td>\n",
       "      <td>...</td>\n",
       "      <td>...</td>\n",
       "      <td>...</td>\n",
       "      <td>...</td>\n",
       "      <td>...</td>\n",
       "      <td>...</td>\n",
       "      <td>...</td>\n",
       "      <td>...</td>\n",
       "      <td>...</td>\n",
       "    </tr>\n",
       "    <tr>\n",
       "      <th>215</th>\n",
       "      <td>Baby It's You - Remastered 2009</td>\n",
       "      <td>The Beatles</td>\n",
       "      <td>Please Please Me (Remastered)</td>\n",
       "      <td>160520</td>\n",
       "      <td>10</td>\n",
       "      <td>1963-03-22</td>\n",
       "      <td>58</td>\n",
       "      <td>0.608</td>\n",
       "      <td>0.494</td>\n",
       "      <td>4</td>\n",
       "      <td>0.144</td>\n",
       "      <td>0</td>\n",
       "      <td>0.0345</td>\n",
       "      <td>0.778</td>\n",
       "      <td>0.000000</td>\n",
       "      <td>0.0926</td>\n",
       "      <td>0.879</td>\n",
       "      <td>112.421</td>\n",
       "    </tr>\n",
       "    <tr>\n",
       "      <th>216</th>\n",
       "      <td>Do You Want To Know A Secret - Remastered 2009</td>\n",
       "      <td>The Beatles</td>\n",
       "      <td>Please Please Me (Remastered)</td>\n",
       "      <td>117013</td>\n",
       "      <td>11</td>\n",
       "      <td>1963-03-22</td>\n",
       "      <td>61</td>\n",
       "      <td>0.673</td>\n",
       "      <td>0.349</td>\n",
       "      <td>4</td>\n",
       "      <td>0.380</td>\n",
       "      <td>1</td>\n",
       "      <td>0.0368</td>\n",
       "      <td>0.608</td>\n",
       "      <td>0.000000</td>\n",
       "      <td>0.3800</td>\n",
       "      <td>0.609</td>\n",
       "      <td>124.451</td>\n",
       "    </tr>\n",
       "    <tr>\n",
       "      <th>217</th>\n",
       "      <td>A Taste Of Honey - Remastered 2009</td>\n",
       "      <td>The Beatles</td>\n",
       "      <td>Please Please Me (Remastered)</td>\n",
       "      <td>123480</td>\n",
       "      <td>12</td>\n",
       "      <td>1963-03-22</td>\n",
       "      <td>48</td>\n",
       "      <td>0.420</td>\n",
       "      <td>0.372</td>\n",
       "      <td>1</td>\n",
       "      <td>0.395</td>\n",
       "      <td>0</td>\n",
       "      <td>0.0327</td>\n",
       "      <td>0.698</td>\n",
       "      <td>0.000000</td>\n",
       "      <td>0.1040</td>\n",
       "      <td>0.412</td>\n",
       "      <td>101.408</td>\n",
       "    </tr>\n",
       "    <tr>\n",
       "      <th>218</th>\n",
       "      <td>There's A Place - Remastered 2009</td>\n",
       "      <td>The Beatles</td>\n",
       "      <td>Please Please Me (Remastered)</td>\n",
       "      <td>110493</td>\n",
       "      <td>13</td>\n",
       "      <td>1963-03-22</td>\n",
       "      <td>48</td>\n",
       "      <td>0.455</td>\n",
       "      <td>0.582</td>\n",
       "      <td>4</td>\n",
       "      <td>0.631</td>\n",
       "      <td>1</td>\n",
       "      <td>0.0292</td>\n",
       "      <td>0.629</td>\n",
       "      <td>0.000004</td>\n",
       "      <td>0.1720</td>\n",
       "      <td>0.927</td>\n",
       "      <td>140.928</td>\n",
       "    </tr>\n",
       "    <tr>\n",
       "      <th>219</th>\n",
       "      <td>Twist And Shout - Remastered 2009</td>\n",
       "      <td>The Beatles</td>\n",
       "      <td>Please Please Me (Remastered)</td>\n",
       "      <td>155226</td>\n",
       "      <td>14</td>\n",
       "      <td>1963-03-22</td>\n",
       "      <td>74</td>\n",
       "      <td>0.482</td>\n",
       "      <td>0.849</td>\n",
       "      <td>2</td>\n",
       "      <td>0.741</td>\n",
       "      <td>1</td>\n",
       "      <td>0.0452</td>\n",
       "      <td>0.641</td>\n",
       "      <td>0.000008</td>\n",
       "      <td>0.0414</td>\n",
       "      <td>0.937</td>\n",
       "      <td>124.631</td>\n",
       "    </tr>\n",
       "  </tbody>\n",
       "</table>\n",
       "<p>220 rows × 18 columns</p>\n",
       "</div>"
      ],
      "text/plain": [
       "                                               song       artist  \\\n",
       "0                    Love Me Do - Mono / Remastered  The Beatles   \n",
       "1                From Me To You - Mono / Remastered  The Beatles   \n",
       "2                 She Loves You - Mono / Remastered  The Beatles   \n",
       "3        I Want To Hold Your Hand - Remastered 2015  The Beatles   \n",
       "4               Can't Buy Me Love - Remastered 2015  The Beatles   \n",
       "..                                              ...          ...   \n",
       "215                 Baby It's You - Remastered 2009  The Beatles   \n",
       "216  Do You Want To Know A Secret - Remastered 2009  The Beatles   \n",
       "217              A Taste Of Honey - Remastered 2009  The Beatles   \n",
       "218               There's A Place - Remastered 2009  The Beatles   \n",
       "219               Twist And Shout - Remastered 2009  The Beatles   \n",
       "\n",
       "                             album  duration  track_num release_date  \\\n",
       "0                   1 (Remastered)    140173          1   2000-11-13   \n",
       "1                   1 (Remastered)    116160          2   2000-11-13   \n",
       "2                   1 (Remastered)    140920          3   2000-11-13   \n",
       "3                   1 (Remastered)    145746          4   2000-11-13   \n",
       "4                   1 (Remastered)    131213          5   2000-11-13   \n",
       "..                             ...       ...        ...          ...   \n",
       "215  Please Please Me (Remastered)    160520         10   1963-03-22   \n",
       "216  Please Please Me (Remastered)    117013         11   1963-03-22   \n",
       "217  Please Please Me (Remastered)    123480         12   1963-03-22   \n",
       "218  Please Please Me (Remastered)    110493         13   1963-03-22   \n",
       "219  Please Please Me (Remastered)    155226         14   1963-03-22   \n",
       "\n",
       "     popularity  danceability  energy  key  key_confidence  mode  speechiness  \\\n",
       "0            57         0.524   0.880    0           0.563     1       0.0987   \n",
       "1            59         0.581   0.821    0           0.000     1       0.0318   \n",
       "2            66         0.377   0.916    4           0.000     0       0.0481   \n",
       "3            71         0.490   0.715    7           0.560     1       0.0476   \n",
       "4            56         0.426   0.760    0           0.712     1       0.0414   \n",
       "..          ...           ...     ...  ...             ...   ...          ...   \n",
       "215          58         0.608   0.494    4           0.144     0       0.0345   \n",
       "216          61         0.673   0.349    4           0.380     1       0.0368   \n",
       "217          48         0.420   0.372    1           0.395     0       0.0327   \n",
       "218          48         0.455   0.582    4           0.631     1       0.0292   \n",
       "219          74         0.482   0.849    2           0.741     1       0.0452   \n",
       "\n",
       "     acousticness  instrumentalness  liveness  valence    tempo  \n",
       "0           0.404          0.000191    0.1540    0.758  148.058  \n",
       "1           0.507          0.000000    0.1080    0.968  136.145  \n",
       "2           0.260          0.000000    0.0740    0.912   75.533  \n",
       "3           0.386          0.000000    0.3110    0.866  130.726  \n",
       "4           0.118          0.000000    0.3250    0.955  171.838  \n",
       "..            ...               ...       ...      ...      ...  \n",
       "215         0.778          0.000000    0.0926    0.879  112.421  \n",
       "216         0.608          0.000000    0.3800    0.609  124.451  \n",
       "217         0.698          0.000000    0.1040    0.412  101.408  \n",
       "218         0.629          0.000004    0.1720    0.927  140.928  \n",
       "219         0.641          0.000008    0.0414    0.937  124.631  \n",
       "\n",
       "[220 rows x 18 columns]"
      ]
     },
     "execution_count": 11,
     "metadata": {},
     "output_type": "execute_result"
    }
   ],
   "source": [
    "beatles_precision"
   ]
  },
  {
   "cell_type": "code",
   "execution_count": 13,
   "metadata": {},
   "outputs": [],
   "source": [
    "beatles_precision.to_csv(\"beatles_precision.csv\", sep = ',')"
   ]
  },
  {
   "cell_type": "code",
   "execution_count": null,
   "metadata": {},
   "outputs": [],
   "source": [
    "## further cleaning to do:\n",
    "## - remove all 'remastered' bits from song and album titles\n",
    "## - extract only year from data\n",
    "## - find duplicates songs from the greatist hits '1' album"
   ]
  },
  {
   "cell_type": "markdown",
   "metadata": {},
   "source": [
    "### Pulling solo career catalogs"
   ]
  },
  {
   "cell_type": "code",
   "execution_count": null,
   "metadata": {},
   "outputs": [],
   "source": [
    "## let's start with Paul\n",
    "\n",
    "mccartney_uri = 'spotify:artist:4STHEaNw4mPZ2tzheohgXB'\n",
    "\n",
    "solo_album_name = []\n",
    "solo_album_uri = []\n",
    "\n",
    "results = sp.artist_albums(mccartney_uri, album_type='album', limit=50, offset=15)\n",
    "albums = results['items']\n",
    "\n",
    "for album in albums:\n",
    "    solo_album_name.append(album['name'])\n",
    "    solo_album_uri.append(album['id'])"
   ]
  },
  {
   "cell_type": "code",
   "execution_count": null,
   "metadata": {},
   "outputs": [],
   "source": [
    "solo_album_name"
   ]
  },
  {
   "cell_type": "code",
   "execution_count": null,
   "metadata": {},
   "outputs": [],
   "source": [
    "exclude_index =[0, 1, 2, 3, 4, 6, 8, 9, 10, 12, 14, 15, 16, 17, 18, 19, 20, 21, 22, 23, 24, 25, 27, 29, 31, 32, 33, 35, 36, 38, 39, 40, 41, 42, 43, 44, 46, 48, 49]\n",
    "\n",
    "for i in sorted(exclude_index, reverse=True):\n",
    "    del solo_album_name[i]\n",
    "    del solo_album_uri[i]"
   ]
  },
  {
   "cell_type": "code",
   "execution_count": null,
   "metadata": {},
   "outputs": [],
   "source": [
    "solo_album_name"
   ]
  },
  {
   "cell_type": "code",
   "execution_count": null,
   "metadata": {},
   "outputs": [],
   "source": [
    "## I also want to include Prolific Paul's band 'Wings'\n",
    "\n",
    "wings_uri = 'spotify:artist:3sFhA6G1N0gG1pszb6kk1m'\n",
    "\n",
    "solo2_album_name = []\n",
    "solo2_album_uri = []\n",
    "\n",
    "results = sp.artist_albums(wings_uri)\n",
    "albums = results['items']\n",
    "\n",
    "for album in albums:\n",
    "    solo2_album_name.append(album['name'])\n",
    "    solo2_album_uri.append(album['id'])"
   ]
  },
  {
   "cell_type": "code",
   "execution_count": null,
   "metadata": {},
   "outputs": [],
   "source": [
    "solo2_album_name"
   ]
  },
  {
   "cell_type": "code",
   "execution_count": null,
   "metadata": {},
   "outputs": [],
   "source": [
    "exclude_index = [1, 3, 4, 5, 6, 8, 9, 10, 12, 13, 16, 17, 18]\n",
    "\n",
    "for i in sorted(exclude_index, reverse=True):\n",
    "    del solo2_album_name[i]\n",
    "    del solo2_album_uri[i]"
   ]
  },
  {
   "cell_type": "code",
   "execution_count": null,
   "metadata": {},
   "outputs": [],
   "source": [
    "solo2_album_name"
   ]
  },
  {
   "cell_type": "code",
   "execution_count": null,
   "metadata": {},
   "outputs": [],
   "source": [
    "solo_album_name.append(solo2_album_name)\n",
    "solo_album_uri.append(solo2_album_uri)"
   ]
  },
  {
   "cell_type": "code",
   "execution_count": null,
   "metadata": {},
   "outputs": [],
   "source": [
    "## John's turn\n",
    "\n",
    "lennon_uri = 'spotify:artist:4x1nvY2FN8jxqAFA0DA02H'\n",
    "\n",
    "solo3_album_name = []\n",
    "solo3_album_uri = []\n",
    "\n",
    "results = sp.artist_albums(lennon_uri, album_type='album', limit=50)\n",
    "albums = results['items']\n",
    "\n",
    "for album in albums:\n",
    "    solo3_album_name.append(album['name'])\n",
    "    solo3_album_uri.append(album['id'])"
   ]
  },
  {
   "cell_type": "code",
   "execution_count": null,
   "metadata": {},
   "outputs": [],
   "source": [
    "solo3_album_name"
   ]
  },
  {
   "cell_type": "code",
   "execution_count": null,
   "metadata": {},
   "outputs": [],
   "source": [
    "exclude_index = [0, 1, 2, 3, 4, 5, 6, 7, 8, 9, 10, 17, 18, 20, 21, 22]\n",
    "\n",
    "for i in sorted(exclude_index, reverse=True):\n",
    "    del solo3_album_name[i]\n",
    "    del solo3_album_uri[i]"
   ]
  },
  {
   "cell_type": "code",
   "execution_count": null,
   "metadata": {},
   "outputs": [],
   "source": [
    "solo_album_name.append(solo3_album_name)\n",
    "solo_album_uri.append(solo3_album_uri)"
   ]
  },
  {
   "cell_type": "code",
   "execution_count": null,
   "metadata": {},
   "outputs": [],
   "source": [
    "## George is up\n",
    "\n",
    "harrison_uri = 'spotify:artist:7FIoB5PHdrMZVC3q2HE5MS'\n",
    "\n",
    "solo4_album_name = []\n",
    "solo4_album_uri = []\n",
    "\n",
    "results = sp.artist_albums(harrison_uri, album_type='album', limit=50)\n",
    "albums = results['items']\n",
    "\n",
    "for album in albums:\n",
    "    solo4_album_name.append(album['name'])\n",
    "    solo4_album_uri.append(album['id'])"
   ]
  },
  {
   "cell_type": "code",
   "execution_count": null,
   "metadata": {},
   "outputs": [],
   "source": [
    "solo4_album_name"
   ]
  },
  {
   "cell_type": "code",
   "execution_count": null,
   "metadata": {},
   "outputs": [],
   "source": [
    "exclude_index = [0, 1, 2, 3, 4, 10, 12, 14, 17, 18, 19]\n",
    "\n",
    "for i in sorted(exclude_index, reverse=True):\n",
    "    del solo4_album_name[i]\n",
    "    del solo4_album_uri[i]"
   ]
  },
  {
   "cell_type": "code",
   "execution_count": null,
   "metadata": {},
   "outputs": [],
   "source": [
    "solo_album_name.append(solo4_album_name)\n",
    "solo_album_uri.append(solo4_album_uri)"
   ]
  },
  {
   "cell_type": "code",
   "execution_count": null,
   "metadata": {},
   "outputs": [],
   "source": [
    "## it would be rude to not include Ringo's solo career\n",
    "\n",
    "ringo_uri = 'spotify:artist:6DbJi8AcN5ANdtvJcwBSw8'\n",
    "\n",
    "solo5_album_name = []\n",
    "solo5_album_uri = []\n",
    "\n",
    "results = sp.artist_albums(ringo_uri, album_type='album', limit=50)\n",
    "albums = results['items']\n",
    "\n",
    "for album in albums:\n",
    "    solo5_album_name.append(album['name'])\n",
    "    solo5_album_uri.append(album['id'])"
   ]
  },
  {
   "cell_type": "code",
   "execution_count": null,
   "metadata": {},
   "outputs": [],
   "source": [
    "solo5_album_name"
   ]
  },
  {
   "cell_type": "code",
   "execution_count": null,
   "metadata": {},
   "outputs": [],
   "source": [
    "exclude_index = [0, 1, 2, 3, 4, 5, 6, 7, 10, 11, 13, 14, 22, 24]\n",
    "\n",
    "for i in sorted(exclude_index, reverse=True):\n",
    "    del solo5_album_name[i]\n",
    "    del solo5_album_uri[i]"
   ]
  },
  {
   "cell_type": "code",
   "execution_count": null,
   "metadata": {},
   "outputs": [],
   "source": [
    "solo_album_name.append(solo5_album_name)\n",
    "solo_album_uri.append(solo5_album_uri)"
   ]
  },
  {
   "cell_type": "code",
   "execution_count": 63,
   "metadata": {},
   "outputs": [],
   "source": [
    "## flatten uri list (with function found somewhere on stack overflow) & we're ready for album tracks\n",
    "\n",
    "def flatten_list(_2d_list):\n",
    "    flat_list = []\n",
    "    # Iterate through the outer list\n",
    "    for element in _2d_list:\n",
    "        if type(element) is list:\n",
    "            # If the element is of type list, iterate through the sublist\n",
    "            for item in element:\n",
    "                flat_list.append(item)\n",
    "        else:\n",
    "            flat_list.append(element)\n",
    "    return flat_list\n",
    "\n",
    "solo_uri = flatten_list(solo_album_uri)"
   ]
  },
  {
   "cell_type": "code",
   "execution_count": null,
   "metadata": {},
   "outputs": [],
   "source": [
    "track_ids = []\n",
    "\n",
    "for i in solo_uri:\n",
    "    tracks = sp.album_tracks(i)\n",
    "    for t in range(len(tracks['items'])):\n",
    "        track_ids.append(tracks['items'][t]['id'])  "
   ]
  },
  {
   "cell_type": "code",
   "execution_count": null,
   "metadata": {},
   "outputs": [],
   "source": [
    "tracks = []\n",
    "\n",
    "for i in range(len(track_ids)):\n",
    "    time.sleep(.5)\n",
    "    track = trackdata(track_ids[i])\n",
    "    tracks.append(track)\n",
    "\n",
    "solo_career = pd.DataFrame(tracks, columns=columns)"
   ]
  },
  {
   "cell_type": "code",
   "execution_count": null,
   "metadata": {},
   "outputs": [],
   "source": [
    "solo_career"
   ]
  },
  {
   "cell_type": "code",
   "execution_count": null,
   "metadata": {},
   "outputs": [],
   "source": [
    "solo_career.to_csv(\"solo_beatles.csv\", sep = ',')"
   ]
  },
  {
   "cell_type": "markdown",
   "metadata": {},
   "source": [
    "### Contemporaries of the Beatles"
   ]
  },
  {
   "cell_type": "code",
   "execution_count": 31,
   "metadata": {},
   "outputs": [],
   "source": [
    "## the Rolling Stones\n",
    "stones_uri = 'spotify:artist:22bE4uQ6baNwSHPVcDxLCe'\n",
    "\n",
    "peer1_album_name = []\n",
    "peer1_album_uri = []\n",
    "\n",
    "results = sp.artist_albums(stones_uri, album_type='album', limit=50, offset=55)\n",
    "albums = results['items']\n",
    "\n",
    "for album in albums:\n",
    "    peer1_album_name.append(album['name'])\n",
    "    peer1_album_uri.append(album['id'])"
   ]
  },
  {
   "cell_type": "code",
   "execution_count": 32,
   "metadata": {
    "collapsed": true
   },
   "outputs": [
    {
     "data": {
      "text/plain": [
       "['Goats Head Soup (Remastered 2009)',\n",
       " 'Goats Head Soup',\n",
       " 'Exile On Main Street (2010 Re-Mastered)',\n",
       " 'Exile On Main Street (Bonus Track Version)',\n",
       " 'Exile On Main Street (Deluxe Version)',\n",
       " 'Jamming With Edward',\n",
       " 'Sticky Fingers (Remastered)',\n",
       " 'Sticky Fingers (Deluxe)',\n",
       " 'Sticky Fingers (Super Deluxe)',\n",
       " 'Get Yer Ya Yas Out',\n",
       " \"Get Yer Ya-Ya's Out! (Remastered)\",\n",
       " \"Get Yer Ya-Ya's Out! The Rolling Stones In Concert (40th Anniversary Edition)\",\n",
       " 'Let It Bleed (50th Anniversary Edition / Remastered 2019)',\n",
       " 'Let It Bleed',\n",
       " 'Let It Bleed',\n",
       " 'Beggars Banquet (50th Anniversary Edition)',\n",
       " 'Beggars Banquet',\n",
       " 'Their Satanic Majesties Request',\n",
       " 'Their Satanic Majesties Request (50th Anniversary Special Edition / Remastered)',\n",
       " 'Flowers',\n",
       " 'Flowers',\n",
       " 'Between The Buttons',\n",
       " 'Between The Buttons (US track listing)',\n",
       " 'Between The Buttons',\n",
       " 'Between The Buttons (UK Version)',\n",
       " 'Got Live if you want it!',\n",
       " 'got LIVE if you want it!',\n",
       " 'Aftermath',\n",
       " 'Aftermath (UK Version)',\n",
       " 'Aftermath (UK Version)',\n",
       " \"December's Children (and everybody's)\",\n",
       " 'December’s Children (And Everybody’s)',\n",
       " 'Out Of Our Heads',\n",
       " 'Out Of Our Heads',\n",
       " 'Out Of Our Heads',\n",
       " 'Now!',\n",
       " 'The Rolling Stones, Now!',\n",
       " 'The Rolling Stones No. 2',\n",
       " '12 X 5',\n",
       " '12 x 5',\n",
       " 'England’s Newest Hitmakers',\n",
       " \"England's Newest Hit Makers\",\n",
       " 'The Rolling Stones']"
      ]
     },
     "execution_count": 32,
     "metadata": {},
     "output_type": "execute_result"
    }
   ],
   "source": [
    "peer1_album_name"
   ]
  },
  {
   "cell_type": "code",
   "execution_count": 33,
   "metadata": {},
   "outputs": [],
   "source": [
    "exclude_index = [0, 1, 3, 4, 5, 7, 8, 9, 11, 12, 14, 15, 18, 19, 22, 23, 24, 25, 26, 28, 29, 30, 32, 33, 34, 36, 37, 39, 41]\n",
    "\n",
    "for i in sorted(exclude_index, reverse=True):\n",
    "    del peer1_album_name[i]\n",
    "    del peer1_album_uri[i]"
   ]
  },
  {
   "cell_type": "code",
   "execution_count": 34,
   "metadata": {
    "collapsed": true
   },
   "outputs": [
    {
     "data": {
      "text/plain": [
       "['Exile On Main Street (2010 Re-Mastered)',\n",
       " 'Sticky Fingers (Remastered)',\n",
       " \"Get Yer Ya-Ya's Out! (Remastered)\",\n",
       " 'Let It Bleed',\n",
       " 'Beggars Banquet',\n",
       " 'Their Satanic Majesties Request',\n",
       " 'Flowers',\n",
       " 'Between The Buttons',\n",
       " 'Aftermath',\n",
       " 'December’s Children (And Everybody’s)',\n",
       " 'Now!',\n",
       " '12 X 5',\n",
       " 'England’s Newest Hitmakers',\n",
       " 'The Rolling Stones']"
      ]
     },
     "execution_count": 34,
     "metadata": {},
     "output_type": "execute_result"
    }
   ],
   "source": [
    "peer1_album_name"
   ]
  },
  {
   "cell_type": "code",
   "execution_count": 37,
   "metadata": {},
   "outputs": [],
   "source": [
    "## the Beach Boys\n",
    "\n",
    "beach_uri = 'spotify:artist:3oDbviiivRWhXwIE8hxkVV'\n",
    "\n",
    "peer2_album_name = []\n",
    "peer2_album_uri = []\n",
    "\n",
    "results = sp.artist_albums(beach_uri, album_type='album', limit=50, offset=30)\n",
    "albums = results['items']\n",
    "\n",
    "for album in albums:\n",
    "    peer2_album_name.append(album['name'])\n",
    "    peer2_album_uri.append(album['id'])"
   ]
  },
  {
   "cell_type": "code",
   "execution_count": 40,
   "metadata": {
    "collapsed": true
   },
   "outputs": [
    {
     "data": {
      "text/plain": [
       "['Love You (Remastered)',\n",
       " '15 Big Ones (Remastered)',\n",
       " 'The Beach Boys In Concert',\n",
       " 'Holland (2000 Remaster)',\n",
       " 'Carl & The Passions - So Tough (Remastered)',\n",
       " \"Surf's Up\",\n",
       " 'Sunflower',\n",
       " 'Live In London (Live In London/2001 Remastered)',\n",
       " 'Live in 1970',\n",
       " '20/20 (Remastered)',\n",
       " 'Friends (Remastered)',\n",
       " 'Wild Honey (Remastered)',\n",
       " 'Smiley Smile (Mono & Stereo)',\n",
       " 'Smiley Smile (Remastered)',\n",
       " 'Pet Sounds (40th Anniversary / Stereo Mix)',\n",
       " 'Pet Sounds (50th Anniversary Edition)',\n",
       " 'Pet Sounds (Original Mono & Stereo Mix Versions)',\n",
       " 'Beach Boys Party! (Remastered)',\n",
       " 'Party! (Mono & Stereo)',\n",
       " 'Summer Days (And Summer Nights) [Mono & Stereo]',\n",
       " 'Summer Days (And Summer Nights) [Remastered]',\n",
       " 'The Beach Boys Today! (Remastered)',\n",
       " 'Today! (Mono & Stereo)',\n",
       " \"The Beach Boys' Christmas Album\",\n",
       " \"The Beach Boys' Christmas Album (Mono & Stereo)\",\n",
       " 'Beach Boys Concert (Live / Remastered)',\n",
       " 'All Summer Long',\n",
       " 'All Summer Long (Mono & Stereo)',\n",
       " 'Shut Down, Vol. 2 (Mono & Stereo)',\n",
       " 'Shut Down, Vol. 2 (Remastered)',\n",
       " 'Little Deuce Coupe (Mono & Stereo)',\n",
       " 'Little Deuce Coupe (Remastered)',\n",
       " 'Surfer Girl (Mono & Stereo)',\n",
       " 'Surfer Girl (Remastered)',\n",
       " \"Surfin' USA (Mono & Stereo)\",\n",
       " \"Surfin' USA (Remastered)\",\n",
       " \"Surfin' Safari (Remastered)\"]"
      ]
     },
     "execution_count": 40,
     "metadata": {},
     "output_type": "execute_result"
    }
   ],
   "source": [
    "peer2_album_name"
   ]
  },
  {
   "cell_type": "code",
   "execution_count": 41,
   "metadata": {},
   "outputs": [],
   "source": [
    "exclude_index = [0, 1, 2, 3, 4, 7, 8, 12, 15, 16, 18, 20, 22, 24, 25, 26, 28, 30,32, 34, 36]\n",
    "\n",
    "for i in sorted(exclude_index, reverse=True):\n",
    "    del peer2_album_name[i]\n",
    "    del peer2_album_uri[i]"
   ]
  },
  {
   "cell_type": "code",
   "execution_count": 43,
   "metadata": {
    "collapsed": true
   },
   "outputs": [
    {
     "data": {
      "text/plain": [
       "[\"Surf's Up\",\n",
       " 'Sunflower',\n",
       " '20/20 (Remastered)',\n",
       " 'Friends (Remastered)',\n",
       " 'Wild Honey (Remastered)',\n",
       " 'Smiley Smile (Remastered)',\n",
       " 'Pet Sounds (40th Anniversary / Stereo Mix)',\n",
       " 'Beach Boys Party! (Remastered)',\n",
       " 'Summer Days (And Summer Nights) [Mono & Stereo]',\n",
       " 'The Beach Boys Today! (Remastered)',\n",
       " \"The Beach Boys' Christmas Album\",\n",
       " 'All Summer Long (Mono & Stereo)',\n",
       " 'Shut Down, Vol. 2 (Remastered)',\n",
       " 'Little Deuce Coupe (Remastered)',\n",
       " 'Surfer Girl (Remastered)',\n",
       " \"Surfin' USA (Remastered)\"]"
      ]
     },
     "execution_count": 43,
     "metadata": {},
     "output_type": "execute_result"
    }
   ],
   "source": [
    "peer2_album_name"
   ]
  },
  {
   "cell_type": "code",
   "execution_count": 44,
   "metadata": {},
   "outputs": [],
   "source": [
    "peer1_album_name.append(peer2_album_name)\n",
    "peer1_album_uri.append(peer2_album_uri)"
   ]
  },
  {
   "cell_type": "code",
   "execution_count": 55,
   "metadata": {},
   "outputs": [],
   "source": [
    "## the Kinks\n",
    "\n",
    "kinks_uri = 'spotify:artist:1SQRv42e4PjEYfPhS0Tk9E'\n",
    "\n",
    "peer3_album_name = []\n",
    "peer3_album_uri = []\n",
    "\n",
    "results = sp.artist_albums(kinks_uri, album_type='album', limit=50, offset=35)\n",
    "albums = results['items']\n",
    "\n",
    "for album in albums:\n",
    "    peer3_album_name.append(album['name'])\n",
    "    peer3_album_uri.append(album['id'])"
   ]
  },
  {
   "cell_type": "code",
   "execution_count": 59,
   "metadata": {
    "collapsed": true
   },
   "outputs": [
    {
     "data": {
      "text/plain": [
       "9"
      ]
     },
     "execution_count": 59,
     "metadata": {},
     "output_type": "execute_result"
    }
   ],
   "source": [
    "len(peer3_album_name)"
   ]
  },
  {
   "cell_type": "code",
   "execution_count": 57,
   "metadata": {},
   "outputs": [],
   "source": [
    "exclude_index = [0, 1, 2, 3, 4, 5, 6, 7, 8, 9, 10, 11, 13, 14, 15, 18, 19, 20, 21, 22, 23, 25, 30]\n",
    "\n",
    "for i in sorted(exclude_index, reverse=True):\n",
    "    del peer3_album_name[i]\n",
    "    del peer3_album_uri[i]"
   ]
  },
  {
   "cell_type": "code",
   "execution_count": 58,
   "metadata": {
    "collapsed": true
   },
   "outputs": [
    {
     "data": {
      "text/plain": [
       "['Muswell Hillbillies',\n",
       " 'Lola Versus Powerman and the Moneygoround, Pt. One',\n",
       " 'Arthur (Deluxe Edition)',\n",
       " 'The Kinks Are The Village Green Preservation Society',\n",
       " 'Something Else (Deluxe Edition)',\n",
       " 'Face to Face (Deluxe Edition)',\n",
       " 'The Kink Kontroversy',\n",
       " 'Kinda Kinks',\n",
       " 'Kinks']"
      ]
     },
     "execution_count": 58,
     "metadata": {},
     "output_type": "execute_result"
    }
   ],
   "source": [
    "peer3_album_name"
   ]
  },
  {
   "cell_type": "code",
   "execution_count": 60,
   "metadata": {},
   "outputs": [],
   "source": [
    "peer1_album_name.append(peer3_album_name)\n",
    "peer1_album_uri.append(peer3_album_uri)"
   ]
  },
  {
   "cell_type": "code",
   "execution_count": 61,
   "metadata": {
    "collapsed": true
   },
   "outputs": [
    {
     "data": {
      "text/plain": [
       "['Exile On Main Street (2010 Re-Mastered)',\n",
       " 'Sticky Fingers (Remastered)',\n",
       " \"Get Yer Ya-Ya's Out! (Remastered)\",\n",
       " 'Let It Bleed',\n",
       " 'Beggars Banquet',\n",
       " 'Their Satanic Majesties Request',\n",
       " 'Flowers',\n",
       " 'Between The Buttons',\n",
       " 'Aftermath',\n",
       " 'December’s Children (And Everybody’s)',\n",
       " 'Now!',\n",
       " '12 X 5',\n",
       " 'England’s Newest Hitmakers',\n",
       " 'The Rolling Stones',\n",
       " [\"Surf's Up\",\n",
       "  'Sunflower',\n",
       "  '20/20 (Remastered)',\n",
       "  'Friends (Remastered)',\n",
       "  'Wild Honey (Remastered)',\n",
       "  'Smiley Smile (Remastered)',\n",
       "  'Pet Sounds (40th Anniversary / Stereo Mix)',\n",
       "  'Beach Boys Party! (Remastered)',\n",
       "  'Summer Days (And Summer Nights) [Mono & Stereo]',\n",
       "  'The Beach Boys Today! (Remastered)',\n",
       "  \"The Beach Boys' Christmas Album\",\n",
       "  'All Summer Long (Mono & Stereo)',\n",
       "  'Shut Down, Vol. 2 (Remastered)',\n",
       "  'Little Deuce Coupe (Remastered)',\n",
       "  'Surfer Girl (Remastered)',\n",
       "  \"Surfin' USA (Remastered)\"],\n",
       " ['Muswell Hillbillies',\n",
       "  'Lola Versus Powerman and the Moneygoround, Pt. One',\n",
       "  'Arthur (Deluxe Edition)',\n",
       "  'The Kinks Are The Village Green Preservation Society',\n",
       "  'Something Else (Deluxe Edition)',\n",
       "  'Face to Face (Deluxe Edition)',\n",
       "  'The Kink Kontroversy',\n",
       "  'Kinda Kinks',\n",
       "  'Kinks']]"
      ]
     },
     "execution_count": 61,
     "metadata": {},
     "output_type": "execute_result"
    }
   ],
   "source": [
    "peer1_album_name"
   ]
  },
  {
   "cell_type": "code",
   "execution_count": 64,
   "metadata": {},
   "outputs": [],
   "source": [
    "peer_tracks = flatten_list(peer1_album_uri)"
   ]
  },
  {
   "cell_type": "code",
   "execution_count": 66,
   "metadata": {},
   "outputs": [],
   "source": [
    "track_ids = []\n",
    "\n",
    "for i in peer_tracks:\n",
    "    tracks = sp.album_tracks(i)\n",
    "    for t in range(len(tracks['items'])):\n",
    "        track_ids.append(tracks['items'][t]['id'])"
   ]
  },
  {
   "cell_type": "code",
   "execution_count": 68,
   "metadata": {},
   "outputs": [],
   "source": [
    "tracks = []\n",
    "\n",
    "for i in range(len(track_ids)):\n",
    "    time.sleep(.5)\n",
    "    track = trackdata(track_ids[i])\n",
    "    tracks.append(track)\n",
    "\n",
    "peer_albums = pd.DataFrame(tracks, columns=columns)"
   ]
  },
  {
   "cell_type": "code",
   "execution_count": 69,
   "metadata": {},
   "outputs": [
    {
     "data": {
      "text/html": [
       "<div>\n",
       "<style scoped>\n",
       "    .dataframe tbody tr th:only-of-type {\n",
       "        vertical-align: middle;\n",
       "    }\n",
       "\n",
       "    .dataframe tbody tr th {\n",
       "        vertical-align: top;\n",
       "    }\n",
       "\n",
       "    .dataframe thead th {\n",
       "        text-align: right;\n",
       "    }\n",
       "</style>\n",
       "<table border=\"1\" class=\"dataframe\">\n",
       "  <thead>\n",
       "    <tr style=\"text-align: right;\">\n",
       "      <th></th>\n",
       "      <th>song</th>\n",
       "      <th>artist</th>\n",
       "      <th>album</th>\n",
       "      <th>duration</th>\n",
       "      <th>track_num</th>\n",
       "      <th>release_date</th>\n",
       "      <th>popularity</th>\n",
       "      <th>danceability</th>\n",
       "      <th>energy</th>\n",
       "      <th>key</th>\n",
       "      <th>key_confidence</th>\n",
       "      <th>mode</th>\n",
       "      <th>speechiness</th>\n",
       "      <th>acousticness</th>\n",
       "      <th>instrumentalness</th>\n",
       "      <th>liveness</th>\n",
       "      <th>valence</th>\n",
       "      <th>tempo</th>\n",
       "    </tr>\n",
       "  </thead>\n",
       "  <tbody>\n",
       "    <tr>\n",
       "      <th>0</th>\n",
       "      <td>Rocks Off</td>\n",
       "      <td>The Rolling Stones</td>\n",
       "      <td>Exile On Main Street (2010 Re-Mastered)</td>\n",
       "      <td>271933</td>\n",
       "      <td>1</td>\n",
       "      <td>1972-05-12</td>\n",
       "      <td>54</td>\n",
       "      <td>0.485</td>\n",
       "      <td>0.943</td>\n",
       "      <td>4</td>\n",
       "      <td>0.464</td>\n",
       "      <td>1</td>\n",
       "      <td>0.0416</td>\n",
       "      <td>0.0639</td>\n",
       "      <td>0.17900</td>\n",
       "      <td>0.1440</td>\n",
       "      <td>0.889</td>\n",
       "      <td>141.982</td>\n",
       "    </tr>\n",
       "    <tr>\n",
       "      <th>1</th>\n",
       "      <td>Rip This Joint</td>\n",
       "      <td>The Rolling Stones</td>\n",
       "      <td>Exile On Main Street (2010 Re-Mastered)</td>\n",
       "      <td>143293</td>\n",
       "      <td>2</td>\n",
       "      <td>1972-05-12</td>\n",
       "      <td>46</td>\n",
       "      <td>0.548</td>\n",
       "      <td>0.952</td>\n",
       "      <td>2</td>\n",
       "      <td>0.809</td>\n",
       "      <td>1</td>\n",
       "      <td>0.0422</td>\n",
       "      <td>0.1180</td>\n",
       "      <td>0.83700</td>\n",
       "      <td>0.3010</td>\n",
       "      <td>0.906</td>\n",
       "      <td>98.040</td>\n",
       "    </tr>\n",
       "    <tr>\n",
       "      <th>2</th>\n",
       "      <td>Shake Your Hips</td>\n",
       "      <td>The Rolling Stones</td>\n",
       "      <td>Exile On Main Street (2010 Re-Mastered)</td>\n",
       "      <td>179000</td>\n",
       "      <td>3</td>\n",
       "      <td>1972-05-12</td>\n",
       "      <td>43</td>\n",
       "      <td>0.374</td>\n",
       "      <td>0.787</td>\n",
       "      <td>2</td>\n",
       "      <td>0.043</td>\n",
       "      <td>1</td>\n",
       "      <td>0.0617</td>\n",
       "      <td>0.6900</td>\n",
       "      <td>0.83100</td>\n",
       "      <td>0.2030</td>\n",
       "      <td>0.763</td>\n",
       "      <td>180.496</td>\n",
       "    </tr>\n",
       "    <tr>\n",
       "      <th>3</th>\n",
       "      <td>Casino Boogie</td>\n",
       "      <td>The Rolling Stones</td>\n",
       "      <td>Exile On Main Street (2010 Re-Mastered)</td>\n",
       "      <td>214466</td>\n",
       "      <td>4</td>\n",
       "      <td>1972-05-12</td>\n",
       "      <td>42</td>\n",
       "      <td>0.530</td>\n",
       "      <td>0.691</td>\n",
       "      <td>2</td>\n",
       "      <td>0.640</td>\n",
       "      <td>1</td>\n",
       "      <td>0.0307</td>\n",
       "      <td>0.3740</td>\n",
       "      <td>0.11100</td>\n",
       "      <td>0.2900</td>\n",
       "      <td>0.581</td>\n",
       "      <td>117.046</td>\n",
       "    </tr>\n",
       "    <tr>\n",
       "      <th>4</th>\n",
       "      <td>Tumbling Dice</td>\n",
       "      <td>The Rolling Stones</td>\n",
       "      <td>Exile On Main Street (2010 Re-Mastered)</td>\n",
       "      <td>226333</td>\n",
       "      <td>5</td>\n",
       "      <td>1972-05-12</td>\n",
       "      <td>61</td>\n",
       "      <td>0.615</td>\n",
       "      <td>0.910</td>\n",
       "      <td>11</td>\n",
       "      <td>0.714</td>\n",
       "      <td>1</td>\n",
       "      <td>0.0347</td>\n",
       "      <td>0.5000</td>\n",
       "      <td>0.51100</td>\n",
       "      <td>0.2810</td>\n",
       "      <td>0.770</td>\n",
       "      <td>111.013</td>\n",
       "    </tr>\n",
       "    <tr>\n",
       "      <th>...</th>\n",
       "      <td>...</td>\n",
       "      <td>...</td>\n",
       "      <td>...</td>\n",
       "      <td>...</td>\n",
       "      <td>...</td>\n",
       "      <td>...</td>\n",
       "      <td>...</td>\n",
       "      <td>...</td>\n",
       "      <td>...</td>\n",
       "      <td>...</td>\n",
       "      <td>...</td>\n",
       "      <td>...</td>\n",
       "      <td>...</td>\n",
       "      <td>...</td>\n",
       "      <td>...</td>\n",
       "      <td>...</td>\n",
       "      <td>...</td>\n",
       "      <td>...</td>\n",
       "    </tr>\n",
       "    <tr>\n",
       "      <th>627</th>\n",
       "      <td>I Gotta Go Now</td>\n",
       "      <td>The Kinks</td>\n",
       "      <td>Kinks</td>\n",
       "      <td>173226</td>\n",
       "      <td>22</td>\n",
       "      <td>1964-10-02</td>\n",
       "      <td>22</td>\n",
       "      <td>0.571</td>\n",
       "      <td>0.514</td>\n",
       "      <td>9</td>\n",
       "      <td>0.365</td>\n",
       "      <td>1</td>\n",
       "      <td>0.0481</td>\n",
       "      <td>0.2270</td>\n",
       "      <td>0.00001</td>\n",
       "      <td>0.0709</td>\n",
       "      <td>0.651</td>\n",
       "      <td>106.363</td>\n",
       "    </tr>\n",
       "    <tr>\n",
       "      <th>628</th>\n",
       "      <td>Things Are Getting Better</td>\n",
       "      <td>The Kinks</td>\n",
       "      <td>Kinks</td>\n",
       "      <td>114600</td>\n",
       "      <td>23</td>\n",
       "      <td>1964-10-02</td>\n",
       "      <td>21</td>\n",
       "      <td>0.559</td>\n",
       "      <td>0.869</td>\n",
       "      <td>2</td>\n",
       "      <td>0.443</td>\n",
       "      <td>1</td>\n",
       "      <td>0.1020</td>\n",
       "      <td>0.1890</td>\n",
       "      <td>0.00000</td>\n",
       "      <td>0.0716</td>\n",
       "      <td>0.451</td>\n",
       "      <td>118.696</td>\n",
       "    </tr>\n",
       "    <tr>\n",
       "      <th>629</th>\n",
       "      <td>I've Got That Feeling</td>\n",
       "      <td>The Kinks</td>\n",
       "      <td>Kinks</td>\n",
       "      <td>162600</td>\n",
       "      <td>24</td>\n",
       "      <td>1964-10-02</td>\n",
       "      <td>24</td>\n",
       "      <td>0.574</td>\n",
       "      <td>0.763</td>\n",
       "      <td>6</td>\n",
       "      <td>0.016</td>\n",
       "      <td>0</td>\n",
       "      <td>0.0389</td>\n",
       "      <td>0.1870</td>\n",
       "      <td>0.00000</td>\n",
       "      <td>0.0892</td>\n",
       "      <td>0.852</td>\n",
       "      <td>127.698</td>\n",
       "    </tr>\n",
       "    <tr>\n",
       "      <th>630</th>\n",
       "      <td>Too Much Monkey Business - Alternate Take</td>\n",
       "      <td>The Kinks</td>\n",
       "      <td>Kinks</td>\n",
       "      <td>127893</td>\n",
       "      <td>25</td>\n",
       "      <td>1964-10-02</td>\n",
       "      <td>20</td>\n",
       "      <td>0.562</td>\n",
       "      <td>0.878</td>\n",
       "      <td>5</td>\n",
       "      <td>0.451</td>\n",
       "      <td>1</td>\n",
       "      <td>0.1470</td>\n",
       "      <td>0.0213</td>\n",
       "      <td>0.00000</td>\n",
       "      <td>0.3690</td>\n",
       "      <td>0.958</td>\n",
       "      <td>117.194</td>\n",
       "    </tr>\n",
       "    <tr>\n",
       "      <th>631</th>\n",
       "      <td>I Don't Need You Anymore</td>\n",
       "      <td>The Kinks</td>\n",
       "      <td>Kinks</td>\n",
       "      <td>130906</td>\n",
       "      <td>26</td>\n",
       "      <td>1964-10-02</td>\n",
       "      <td>23</td>\n",
       "      <td>0.402</td>\n",
       "      <td>0.779</td>\n",
       "      <td>11</td>\n",
       "      <td>0.195</td>\n",
       "      <td>1</td>\n",
       "      <td>0.0580</td>\n",
       "      <td>0.2080</td>\n",
       "      <td>0.00000</td>\n",
       "      <td>0.1510</td>\n",
       "      <td>0.920</td>\n",
       "      <td>154.169</td>\n",
       "    </tr>\n",
       "  </tbody>\n",
       "</table>\n",
       "<p>632 rows × 18 columns</p>\n",
       "</div>"
      ],
      "text/plain": [
       "                                          song              artist  \\\n",
       "0                                    Rocks Off  The Rolling Stones   \n",
       "1                               Rip This Joint  The Rolling Stones   \n",
       "2                              Shake Your Hips  The Rolling Stones   \n",
       "3                                Casino Boogie  The Rolling Stones   \n",
       "4                                Tumbling Dice  The Rolling Stones   \n",
       "..                                         ...                 ...   \n",
       "627                             I Gotta Go Now           The Kinks   \n",
       "628                  Things Are Getting Better           The Kinks   \n",
       "629                      I've Got That Feeling           The Kinks   \n",
       "630  Too Much Monkey Business - Alternate Take           The Kinks   \n",
       "631                   I Don't Need You Anymore           The Kinks   \n",
       "\n",
       "                                       album  duration  track_num  \\\n",
       "0    Exile On Main Street (2010 Re-Mastered)    271933          1   \n",
       "1    Exile On Main Street (2010 Re-Mastered)    143293          2   \n",
       "2    Exile On Main Street (2010 Re-Mastered)    179000          3   \n",
       "3    Exile On Main Street (2010 Re-Mastered)    214466          4   \n",
       "4    Exile On Main Street (2010 Re-Mastered)    226333          5   \n",
       "..                                       ...       ...        ...   \n",
       "627                                    Kinks    173226         22   \n",
       "628                                    Kinks    114600         23   \n",
       "629                                    Kinks    162600         24   \n",
       "630                                    Kinks    127893         25   \n",
       "631                                    Kinks    130906         26   \n",
       "\n",
       "    release_date  popularity  danceability  energy  key  key_confidence  mode  \\\n",
       "0     1972-05-12          54         0.485   0.943    4           0.464     1   \n",
       "1     1972-05-12          46         0.548   0.952    2           0.809     1   \n",
       "2     1972-05-12          43         0.374   0.787    2           0.043     1   \n",
       "3     1972-05-12          42         0.530   0.691    2           0.640     1   \n",
       "4     1972-05-12          61         0.615   0.910   11           0.714     1   \n",
       "..           ...         ...           ...     ...  ...             ...   ...   \n",
       "627   1964-10-02          22         0.571   0.514    9           0.365     1   \n",
       "628   1964-10-02          21         0.559   0.869    2           0.443     1   \n",
       "629   1964-10-02          24         0.574   0.763    6           0.016     0   \n",
       "630   1964-10-02          20         0.562   0.878    5           0.451     1   \n",
       "631   1964-10-02          23         0.402   0.779   11           0.195     1   \n",
       "\n",
       "     speechiness  acousticness  instrumentalness  liveness  valence    tempo  \n",
       "0         0.0416        0.0639           0.17900    0.1440    0.889  141.982  \n",
       "1         0.0422        0.1180           0.83700    0.3010    0.906   98.040  \n",
       "2         0.0617        0.6900           0.83100    0.2030    0.763  180.496  \n",
       "3         0.0307        0.3740           0.11100    0.2900    0.581  117.046  \n",
       "4         0.0347        0.5000           0.51100    0.2810    0.770  111.013  \n",
       "..           ...           ...               ...       ...      ...      ...  \n",
       "627       0.0481        0.2270           0.00001    0.0709    0.651  106.363  \n",
       "628       0.1020        0.1890           0.00000    0.0716    0.451  118.696  \n",
       "629       0.0389        0.1870           0.00000    0.0892    0.852  127.698  \n",
       "630       0.1470        0.0213           0.00000    0.3690    0.958  117.194  \n",
       "631       0.0580        0.2080           0.00000    0.1510    0.920  154.169  \n",
       "\n",
       "[632 rows x 18 columns]"
      ]
     },
     "execution_count": 69,
     "metadata": {},
     "output_type": "execute_result"
    }
   ],
   "source": [
    "peer_albums"
   ]
  },
  {
   "cell_type": "code",
   "execution_count": 71,
   "metadata": {},
   "outputs": [],
   "source": [
    "peer_albums.to_csv(\"peer_groups.csv\", sep = ',')"
   ]
  },
  {
   "cell_type": "code",
   "execution_count": null,
   "metadata": {},
   "outputs": [],
   "source": []
  }
 ],
 "metadata": {
  "kernelspec": {
   "display_name": "Python 3",
   "language": "python",
   "name": "python3"
  },
  "language_info": {
   "codemirror_mode": {
    "name": "ipython",
    "version": 3
   },
   "file_extension": ".py",
   "mimetype": "text/x-python",
   "name": "python",
   "nbconvert_exporter": "python",
   "pygments_lexer": "ipython3",
   "version": "3.8.5"
  }
 },
 "nbformat": 4,
 "nbformat_minor": 4
}
